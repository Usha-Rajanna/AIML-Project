{
 "cells": [
  {
   "cell_type": "code",
   "execution_count": 1,
   "id": "5cf47a4e",
   "metadata": {},
   "outputs": [],
   "source": [
    "import pandas as pd\n",
    "import warnings\n",
    "warnings.filterwarnings('ignore')\n",
    "import random\n",
    "import matplotlib.pyplot as plt\n",
    "%matplotlib inline\n",
    "import numpy as np\n",
    "import seaborn as sns\n",
    "\n",
    "from sklearn.model_selection import train_test_split\n",
    "from sklearn.ensemble import RandomForestClassifier\n",
    "from sklearn import metrics\n",
    "from sklearn.metrics import confusion_matrix\n",
    "from sklearn.metrics import precision_score, recall_score, f1_score, accuracy_score\n",
    "from sklearn.metrics import roc_auc_score,r2_score,classification_report\n",
    "\n",
    "from sklearn.model_selection import train_test_split\n",
    "from sklearn.linear_model import LinearRegression\n",
    "\n",
    "from sklearn.tree import DecisionTreeClassifier\n",
    "from sklearn.model_selection import GridSearchCV\n",
    "\n",
    "from sklearn.ensemble import AdaBoostClassifier\n",
    "from sklearn.model_selection import RepeatedStratifiedKFold\n",
    "\n",
    "from sklearn.ensemble import GradientBoostingClassifier"
   ]
  },
  {
   "cell_type": "code",
   "execution_count": 2,
   "id": "209f72e0",
   "metadata": {},
   "outputs": [],
   "source": [
    "churn=pd.read_csv(r'C:\\Personal\\AI\\Ensemble\\TelcomChurn.csv')"
   ]
  },
  {
   "cell_type": "code",
   "execution_count": 3,
   "id": "abe7aa8f",
   "metadata": {},
   "outputs": [],
   "source": [
    "X = churn.drop(columns=['Churn'])\n",
    "y = churn['Churn']"
   ]
  },
  {
   "cell_type": "code",
   "execution_count": 4,
   "id": "c4940731",
   "metadata": {},
   "outputs": [],
   "source": [
    "X_train, X_test, y_train, y_test = train_test_split(X, y, test_size=0.20,\n",
    "                                                    random_state=1)"
   ]
  },
  {
   "cell_type": "markdown",
   "id": "750dc39d",
   "metadata": {},
   "source": [
    "3.c Train a model using Random forest and check the\n",
    "performance of the model on train and test data"
   ]
  },
  {
   "cell_type": "code",
   "execution_count": 5,
   "id": "56d8ce25",
   "metadata": {},
   "outputs": [
    {
     "name": "stdout",
     "output_type": "stream",
     "text": [
      "1.0\n",
      "0.7995735607675906\n",
      "              precision    recall  f1-score   support\n",
      "\n",
      "           0       0.84      0.91      0.87      1041\n",
      "           1       0.65      0.49      0.56       366\n",
      "\n",
      "    accuracy                           0.80      1407\n",
      "   macro avg       0.74      0.70      0.72      1407\n",
      "weighted avg       0.79      0.80      0.79      1407\n",
      "\n"
     ]
    },
    {
     "data": {
      "text/plain": [
       "0.7006779420796523"
      ]
     },
     "execution_count": 5,
     "metadata": {},
     "output_type": "execute_result"
    }
   ],
   "source": [
    "rf=RandomForestClassifier()\n",
    "rf.fit(X_train,y_train)\n",
    "\n",
    "print(rf.score(X_train, y_train))\n",
    "print(rf.score(X_test, y_test))\n",
    "\n",
    "y_pred = rf.predict(X_test)\n",
    "print(classification_report(y_test, y_pred))\n",
    "roc_auc_score(y_test, y_pred)"
   ]
  },
  {
   "cell_type": "code",
   "execution_count": 6,
   "id": "cacfa9da",
   "metadata": {},
   "outputs": [
    {
     "data": {
      "image/png": "[encoded data removed]",
      "text/plain": [
       "<Figure size 700x500 with 2 Axes>"
      ]
     },
     "metadata": {},
     "output_type": "display_data"
    }
   ],
   "source": [
    "class_train_predict = rf.predict(X_train)\n",
    "class_test_predict = rf.predict(X_test)\n",
    "cm=confusion_matrix(y_test, class_test_predict,labels=[1,0])\n",
    "df_cm = pd.DataFrame(cm, index = [i for i in [\"No Churn\",\"Churn\"]],\n",
    "                  columns = [i for i in [\"No Churn\",\"Churn\"]])\n",
    "plt.figure(figsize = (7,5))\n",
    "sns.heatmap(df_cm, annot=True, cmap='Blues')\n",
    "plt.show()"
   ]
  },
  {
   "cell_type": "markdown",
   "id": "fcbe97f3",
   "metadata": {},
   "source": [
    "3.d Use grid search and improve the performance of the\n",
    "Random tree model , check the performance of the model on\n",
    "train and test data , provide the differences observed in\n",
    "performance in Q3.c and Q3.d"
   ]
  },
  {
   "cell_type": "code",
   "execution_count": 7,
   "id": "5e38eeb1",
   "metadata": {},
   "outputs": [
    {
     "data": {
      "text/html": [
       "<style>#sk-container-id-1 {color: black;background-color: white;}#sk-container-id-1 pre{padding: 0;}#sk-container-id-1 div.sk-toggleable {background-color: white;}#sk-container-id-1 label.sk-toggleable__label {cursor: pointer;display: block;width: 100%;margin-bottom: 0;padding: 0.3em;box-sizing: border-box;text-align: center;}#sk-container-id-1 label.sk-toggleable__label-arrow:before {content: \"▸\";float: left;margin-right: 0.25em;color: #696969;}#sk-container-id-1 label.sk-toggleable__label-arrow:hover:before {color: black;}#sk-container-id-1 div.sk-estimator:hover label.sk-toggleable__label-arrow:before {color: black;}#sk-container-id-1 div.sk-toggleable__content {max-height: 0;max-width: 0;overflow: hidden;text-align: left;background-color: #f0f8ff;}#sk-container-id-1 div.sk-toggleable__content pre {margin: 0.2em;color: black;border-radius: 0.25em;background-color: #f0f8ff;}#sk-container-id-1 input.sk-toggleable__control:checked~div.sk-toggleable__content {max-height: 200px;max-width: 100%;overflow: auto;}#sk-container-id-1 input.sk-toggleable__control:checked~label.sk-toggleable__label-arrow:before {content: \"▾\";}#sk-container-id-1 div.sk-estimator input.sk-toggleable__control:checked~label.sk-toggleable__label {background-color: #d4ebff;}#sk-container-id-1 div.sk-label input.sk-toggleable__control:checked~label.sk-toggleable__label {background-color: #d4ebff;}#sk-container-id-1 input.sk-hidden--visually {border: 0;clip: rect(1px 1px 1px 1px);clip: rect(1px, 1px, 1px, 1px);height: 1px;margin: -1px;overflow: hidden;padding: 0;position: absolute;width: 1px;}#sk-container-id-1 div.sk-estimator {font-family: monospace;background-color: #f0f8ff;border: 1px dotted black;border-radius: 0.25em;box-sizing: border-box;margin-bottom: 0.5em;}#sk-container-id-1 div.sk-estimator:hover {background-color: #d4ebff;}#sk-container-id-1 div.sk-parallel-item::after {content: \"\";width: 100%;border-bottom: 1px solid gray;flex-grow: 1;}#sk-container-id-1 div.sk-label:hover label.sk-toggleable__label {background-color: #d4ebff;}#sk-container-id-1 div.sk-serial::before {content: \"\";position: absolute;border-left: 1px solid gray;box-sizing: border-box;top: 0;bottom: 0;left: 50%;z-index: 0;}#sk-container-id-1 div.sk-serial {display: flex;flex-direction: column;align-items: center;background-color: white;padding-right: 0.2em;padding-left: 0.2em;position: relative;}#sk-container-id-1 div.sk-item {position: relative;z-index: 1;}#sk-container-id-1 div.sk-parallel {display: flex;align-items: stretch;justify-content: center;background-color: white;position: relative;}#sk-container-id-1 div.sk-item::before, #sk-container-id-1 div.sk-parallel-item::before {content: \"\";position: absolute;border-left: 1px solid gray;box-sizing: border-box;top: 0;bottom: 0;left: 50%;z-index: -1;}#sk-container-id-1 div.sk-parallel-item {display: flex;flex-direction: column;z-index: 1;position: relative;background-color: white;}#sk-container-id-1 div.sk-parallel-item:first-child::after {align-self: flex-end;width: 50%;}#sk-container-id-1 div.sk-parallel-item:last-child::after {align-self: flex-start;width: 50%;}#sk-container-id-1 div.sk-parallel-item:only-child::after {width: 0;}#sk-container-id-1 div.sk-dashed-wrapped {border: 1px dashed gray;margin: 0 0.4em 0.5em 0.4em;box-sizing: border-box;padding-bottom: 0.4em;background-color: white;}#sk-container-id-1 div.sk-label label {font-family: monospace;font-weight: bold;display: inline-block;line-height: 1.2em;}#sk-container-id-1 div.sk-label-container {text-align: center;}#sk-container-id-1 div.sk-container {/* jupyter's `normalize.less` sets `[hidden] { display: none; }` but bootstrap.min.css set `[hidden] { display: none !important; }` so we also need the `!important` here to be able to override the default hidden behavior on the sphinx rendered scikit-learn.org. See: https://github.com/scikit-learn/scikit-learn/issues/21755 */display: inline-block !important;position: relative;}#sk-container-id-1 div.sk-text-repr-fallback {display: none;}</style><div id=\"sk-container-id-1\" class=\"sk-top-container\"><div class=\"sk-text-repr-fallback\"><pre>GridSearchCV(cv=10, estimator=RandomForestClassifier(),\n",
       "             param_grid={&#x27;criterion&#x27;: [&#x27;gini&#x27;, &#x27;entropy&#x27;],\n",
       "                         &#x27;max_depth&#x27;: [3, 4, 5, 6], &#x27;max_features&#x27;: [&#x27;auto&#x27;],\n",
       "                         &#x27;n_estimators&#x27;: [200, 500]})</pre><b>In a Jupyter environment, please rerun this cell to show the HTML representation or trust the notebook. <br />On GitHub, the HTML representation is unable to render, please try loading this page with nbviewer.org.</b></div><div class=\"sk-container\" hidden><div class=\"sk-item sk-dashed-wrapped\"><div class=\"sk-label-container\"><div class=\"sk-label sk-toggleable\"><input class=\"sk-toggleable__control sk-hidden--visually\" id=\"sk-estimator-id-1\" type=\"checkbox\" ><label for=\"sk-estimator-id-1\" class=\"sk-toggleable__label sk-toggleable__label-arrow\">GridSearchCV</label><div class=\"sk-toggleable__content\"><pre>GridSearchCV(cv=10, estimator=RandomForestClassifier(),\n",
       "             param_grid={&#x27;criterion&#x27;: [&#x27;gini&#x27;, &#x27;entropy&#x27;],\n",
       "                         &#x27;max_depth&#x27;: [3, 4, 5, 6], &#x27;max_features&#x27;: [&#x27;auto&#x27;],\n",
       "                         &#x27;n_estimators&#x27;: [200, 500]})</pre></div></div></div><div class=\"sk-parallel\"><div class=\"sk-parallel-item\"><div class=\"sk-item\"><div class=\"sk-label-container\"><div class=\"sk-label sk-toggleable\"><input class=\"sk-toggleable__control sk-hidden--visually\" id=\"sk-estimator-id-2\" type=\"checkbox\" ><label for=\"sk-estimator-id-2\" class=\"sk-toggleable__label sk-toggleable__label-arrow\">estimator: RandomForestClassifier</label><div class=\"sk-toggleable__content\"><pre>RandomForestClassifier()</pre></div></div></div><div class=\"sk-serial\"><div class=\"sk-item\"><div class=\"sk-estimator sk-toggleable\"><input class=\"sk-toggleable__control sk-hidden--visually\" id=\"sk-estimator-id-3\" type=\"checkbox\" ><label for=\"sk-estimator-id-3\" class=\"sk-toggleable__label sk-toggleable__label-arrow\">RandomForestClassifier</label><div class=\"sk-toggleable__content\"><pre>RandomForestClassifier()</pre></div></div></div></div></div></div></div></div></div></div>"
      ],
      "text/plain": [
       "GridSearchCV(cv=10, estimator=RandomForestClassifier(),\n",
       "             param_grid={'criterion': ['gini', 'entropy'],\n",
       "                         'max_depth': [3, 4, 5, 6], 'max_features': ['auto'],\n",
       "                         'n_estimators': [200, 500]})"
      ]
     },
     "execution_count": 7,
     "metadata": {},
     "output_type": "execute_result"
    }
   ],
   "source": [
    "param_grid = { \n",
    "    'n_estimators': [200, 500],\n",
    "    'max_features': ['auto'],\n",
    "    'max_depth' : [3,4,5,6],\n",
    "    'criterion' :['gini', 'entropy']\n",
    "}\n",
    "\n",
    "gsrf = GridSearchCV(rf,param_grid,cv=10)\n",
    "gsrf.fit(X_train, y_train)"
   ]
  },
  {
   "cell_type": "code",
   "execution_count": 8,
   "id": "8aa7f7f9",
   "metadata": {},
   "outputs": [
    {
     "name": "stdout",
     "output_type": "stream",
     "text": [
      "0.816\n",
      "0.7995735607675906\n",
      "              precision    recall  f1-score   support\n",
      "\n",
      "           0       0.83      0.92      0.87      1041\n",
      "           1       0.67      0.45      0.54       366\n",
      "\n",
      "    accuracy                           0.80      1407\n",
      "   macro avg       0.75      0.69      0.71      1407\n",
      "weighted avg       0.79      0.80      0.79      1407\n",
      "\n"
     ]
    },
    {
     "data": {
      "text/plain": [
       "0.6873907497519725"
      ]
     },
     "execution_count": 8,
     "metadata": {},
     "output_type": "execute_result"
    }
   ],
   "source": [
    "print(gsrf.score(X_train, y_train))\n",
    "print(gsrf.score(X_test, y_test))\n",
    "\n",
    "y_pred =gsrf.predict(X_test)\n",
    "print(classification_report(y_test, y_pred))\n",
    "roc_auc_score(y_test, y_pred)"
   ]
  },
  {
   "cell_type": "code",
   "execution_count": 9,
   "id": "3b1b18d9",
   "metadata": {},
   "outputs": [
    {
     "data": {
      "image/png": "[encoded data removed]",
      "text/plain": [
       "<Figure size 700x500 with 2 Axes>"
      ]
     },
     "metadata": {},
     "output_type": "display_data"
    }
   ],
   "source": [
    "class_train_predict = gsrf.predict(X_train)\n",
    "class_test_predict = gsrf.predict(X_test)\n",
    "cm=confusion_matrix(y_test, class_test_predict,labels=[1,0])\n",
    "df_cm = pd.DataFrame(cm, index = [i for i in [\"No Churn\",\"Churn\"]],\n",
    "                  columns = [i for i in [\"No Churn\",\"Churn\"]])\n",
    "plt.figure(figsize = (7,5))\n",
    "sns.heatmap(df_cm, annot=True, cmap='Blues')\n",
    "plt.show()"
   ]
  },
  {
   "cell_type": "code",
   "execution_count": 10,
   "id": "8dc147d9",
   "metadata": {},
   "outputs": [
    {
     "data": {
      "text/plain": [
       "{'criterion': 'gini',\n",
       " 'max_depth': 6,\n",
       " 'max_features': 'auto',\n",
       " 'n_estimators': 500}"
      ]
     },
     "execution_count": 10,
     "metadata": {},
     "output_type": "execute_result"
    }
   ],
   "source": [
    "gsrf.best_params_"
   ]
  },
  {
   "cell_type": "code",
   "execution_count": 11,
   "id": "9c3345f4",
   "metadata": {},
   "outputs": [
    {
     "data": {
      "text/html": [
       "<style>#sk-container-id-2 {color: black;background-color: white;}#sk-container-id-2 pre{padding: 0;}#sk-container-id-2 div.sk-toggleable {background-color: white;}#sk-container-id-2 label.sk-toggleable__label {cursor: pointer;display: block;width: 100%;margin-bottom: 0;padding: 0.3em;box-sizing: border-box;text-align: center;}#sk-container-id-2 label.sk-toggleable__label-arrow:before {content: \"▸\";float: left;margin-right: 0.25em;color: #696969;}#sk-container-id-2 label.sk-toggleable__label-arrow:hover:before {color: black;}#sk-container-id-2 div.sk-estimator:hover label.sk-toggleable__label-arrow:before {color: black;}#sk-container-id-2 div.sk-toggleable__content {max-height: 0;max-width: 0;overflow: hidden;text-align: left;background-color: #f0f8ff;}#sk-container-id-2 div.sk-toggleable__content pre {margin: 0.2em;color: black;border-radius: 0.25em;background-color: #f0f8ff;}#sk-container-id-2 input.sk-toggleable__control:checked~div.sk-toggleable__content {max-height: 200px;max-width: 100%;overflow: auto;}#sk-container-id-2 input.sk-toggleable__control:checked~label.sk-toggleable__label-arrow:before {content: \"▾\";}#sk-container-id-2 div.sk-estimator input.sk-toggleable__control:checked~label.sk-toggleable__label {background-color: #d4ebff;}#sk-container-id-2 div.sk-label input.sk-toggleable__control:checked~label.sk-toggleable__label {background-color: #d4ebff;}#sk-container-id-2 input.sk-hidden--visually {border: 0;clip: rect(1px 1px 1px 1px);clip: rect(1px, 1px, 1px, 1px);height: 1px;margin: -1px;overflow: hidden;padding: 0;position: absolute;width: 1px;}#sk-container-id-2 div.sk-estimator {font-family: monospace;background-color: #f0f8ff;border: 1px dotted black;border-radius: 0.25em;box-sizing: border-box;margin-bottom: 0.5em;}#sk-container-id-2 div.sk-estimator:hover {background-color: #d4ebff;}#sk-container-id-2 div.sk-parallel-item::after {content: \"\";width: 100%;border-bottom: 1px solid gray;flex-grow: 1;}#sk-container-id-2 div.sk-label:hover label.sk-toggleable__label {background-color: #d4ebff;}#sk-container-id-2 div.sk-serial::before {content: \"\";position: absolute;border-left: 1px solid gray;box-sizing: border-box;top: 0;bottom: 0;left: 50%;z-index: 0;}#sk-container-id-2 div.sk-serial {display: flex;flex-direction: column;align-items: center;background-color: white;padding-right: 0.2em;padding-left: 0.2em;position: relative;}#sk-container-id-2 div.sk-item {position: relative;z-index: 1;}#sk-container-id-2 div.sk-parallel {display: flex;align-items: stretch;justify-content: center;background-color: white;position: relative;}#sk-container-id-2 div.sk-item::before, #sk-container-id-2 div.sk-parallel-item::before {content: \"\";position: absolute;border-left: 1px solid gray;box-sizing: border-box;top: 0;bottom: 0;left: 50%;z-index: -1;}#sk-container-id-2 div.sk-parallel-item {display: flex;flex-direction: column;z-index: 1;position: relative;background-color: white;}#sk-container-id-2 div.sk-parallel-item:first-child::after {align-self: flex-end;width: 50%;}#sk-container-id-2 div.sk-parallel-item:last-child::after {align-self: flex-start;width: 50%;}#sk-container-id-2 div.sk-parallel-item:only-child::after {width: 0;}#sk-container-id-2 div.sk-dashed-wrapped {border: 1px dashed gray;margin: 0 0.4em 0.5em 0.4em;box-sizing: border-box;padding-bottom: 0.4em;background-color: white;}#sk-container-id-2 div.sk-label label {font-family: monospace;font-weight: bold;display: inline-block;line-height: 1.2em;}#sk-container-id-2 div.sk-label-container {text-align: center;}#sk-container-id-2 div.sk-container {/* jupyter's `normalize.less` sets `[hidden] { display: none; }` but bootstrap.min.css set `[hidden] { display: none !important; }` so we also need the `!important` here to be able to override the default hidden behavior on the sphinx rendered scikit-learn.org. See: https://github.com/scikit-learn/scikit-learn/issues/21755 */display: inline-block !important;position: relative;}#sk-container-id-2 div.sk-text-repr-fallback {display: none;}</style><div id=\"sk-container-id-2\" class=\"sk-top-container\"><div class=\"sk-text-repr-fallback\"><pre>GridSearchCV(cv=10, estimator=RandomForestClassifier(),\n",
       "             param_grid={&#x27;criterion&#x27;: [&#x27;gini&#x27;], &#x27;max_depth&#x27;: [6, 7, 8],\n",
       "                         &#x27;max_features&#x27;: [&#x27;auto&#x27;], &#x27;n_estimators&#x27;: [500, 600]})</pre><b>In a Jupyter environment, please rerun this cell to show the HTML representation or trust the notebook. <br />On GitHub, the HTML representation is unable to render, please try loading this page with nbviewer.org.</b></div><div class=\"sk-container\" hidden><div class=\"sk-item sk-dashed-wrapped\"><div class=\"sk-label-container\"><div class=\"sk-label sk-toggleable\"><input class=\"sk-toggleable__control sk-hidden--visually\" id=\"sk-estimator-id-4\" type=\"checkbox\" ><label for=\"sk-estimator-id-4\" class=\"sk-toggleable__label sk-toggleable__label-arrow\">GridSearchCV</label><div class=\"sk-toggleable__content\"><pre>GridSearchCV(cv=10, estimator=RandomForestClassifier(),\n",
       "             param_grid={&#x27;criterion&#x27;: [&#x27;gini&#x27;], &#x27;max_depth&#x27;: [6, 7, 8],\n",
       "                         &#x27;max_features&#x27;: [&#x27;auto&#x27;], &#x27;n_estimators&#x27;: [500, 600]})</pre></div></div></div><div class=\"sk-parallel\"><div class=\"sk-parallel-item\"><div class=\"sk-item\"><div class=\"sk-label-container\"><div class=\"sk-label sk-toggleable\"><input class=\"sk-toggleable__control sk-hidden--visually\" id=\"sk-estimator-id-5\" type=\"checkbox\" ><label for=\"sk-estimator-id-5\" class=\"sk-toggleable__label sk-toggleable__label-arrow\">estimator: RandomForestClassifier</label><div class=\"sk-toggleable__content\"><pre>RandomForestClassifier()</pre></div></div></div><div class=\"sk-serial\"><div class=\"sk-item\"><div class=\"sk-estimator sk-toggleable\"><input class=\"sk-toggleable__control sk-hidden--visually\" id=\"sk-estimator-id-6\" type=\"checkbox\" ><label for=\"sk-estimator-id-6\" class=\"sk-toggleable__label sk-toggleable__label-arrow\">RandomForestClassifier</label><div class=\"sk-toggleable__content\"><pre>RandomForestClassifier()</pre></div></div></div></div></div></div></div></div></div></div>"
      ],
      "text/plain": [
       "GridSearchCV(cv=10, estimator=RandomForestClassifier(),\n",
       "             param_grid={'criterion': ['gini'], 'max_depth': [6, 7, 8],\n",
       "                         'max_features': ['auto'], 'n_estimators': [500, 600]})"
      ]
     },
     "execution_count": 11,
     "metadata": {},
     "output_type": "execute_result"
    }
   ],
   "source": [
    "param_grid = { \n",
    "    'n_estimators': [500,600],\n",
    "    'max_features': ['auto'],\n",
    "    'max_depth' : [6,7,8],\n",
    "    'criterion' :['gini']\n",
    "}\n",
    "\n",
    "gsrf = GridSearchCV(rf,param_grid,cv=10)\n",
    "gsrf.fit(X_train, y_train)"
   ]
  },
  {
   "cell_type": "code",
   "execution_count": 12,
   "id": "4cb8eee1",
   "metadata": {},
   "outputs": [
    {
     "name": "stdout",
     "output_type": "stream",
     "text": [
      "0.8392888888888889\n",
      "0.7995735607675906\n",
      "              precision    recall  f1-score   support\n",
      "\n",
      "           0       0.83      0.91      0.87      1041\n",
      "           1       0.65      0.49      0.56       366\n",
      "\n",
      "    accuracy                           0.80      1407\n",
      "   macro avg       0.74      0.70      0.71      1407\n",
      "weighted avg       0.79      0.80      0.79      1407\n",
      "\n"
     ]
    },
    {
     "data": {
      "text/plain": [
       "0.6989063164359616"
      ]
     },
     "execution_count": 12,
     "metadata": {},
     "output_type": "execute_result"
    }
   ],
   "source": [
    "print(gsrf.score(X_train, y_train))\n",
    "print(gsrf.score(X_test, y_test))\n",
    "\n",
    "y_pred =gsrf.predict(X_test)\n",
    "print(classification_report(y_test, y_pred))\n",
    "roc_auc_score(y_test, y_pred)"
   ]
  },
  {
   "cell_type": "code",
   "execution_count": 13,
   "id": "83eb7a59",
   "metadata": {},
   "outputs": [
    {
     "data": {
      "image/png": "[encoded data removed]",
      "text/plain": [
       "<Figure size 700x500 with 2 Axes>"
      ]
     },
     "metadata": {},
     "output_type": "display_data"
    }
   ],
   "source": [
    "class_train_predict = gsrf.predict(X_train)\n",
    "class_test_predict = gsrf.predict(X_test)\n",
    "cm=confusion_matrix(y_test, class_test_predict,labels=[1,0])\n",
    "df_cm = pd.DataFrame(cm, index = [i for i in [\"No Churn\",\"Churn\"]],\n",
    "                  columns = [i for i in [\"No Churn\",\"Churn\"]])\n",
    "plt.figure(figsize = (7,5))\n",
    "sns.heatmap(df_cm, annot=True, cmap='Blues')\n",
    "plt.show()"
   ]
  },
  {
   "cell_type": "code",
   "execution_count": 14,
   "id": "c1b97469",
   "metadata": {},
   "outputs": [
    {
     "data": {
      "text/plain": [
       "{'criterion': 'gini',\n",
       " 'max_depth': 8,\n",
       " 'max_features': 'auto',\n",
       " 'n_estimators': 500}"
      ]
     },
     "execution_count": 14,
     "metadata": {},
     "output_type": "execute_result"
    }
   ],
   "source": [
    "gsrf.best_params_"
   ]
  },
  {
   "cell_type": "markdown",
   "id": "a8895e92",
   "metadata": {},
   "source": [
    "3.e Train a model using Adaboost and check the\n",
    "performance of the model on train and test data"
   ]
  },
  {
   "cell_type": "code",
   "execution_count": 15,
   "id": "d2d64204",
   "metadata": {},
   "outputs": [
    {
     "name": "stdout",
     "output_type": "stream",
     "text": [
      "0.8065777777777777\n",
      "0.8024164889836531\n",
      "              precision    recall  f1-score   support\n",
      "\n",
      "           0       0.84      0.90      0.87      1041\n",
      "           1       0.65      0.52      0.58       366\n",
      "\n",
      "    accuracy                           0.80      1407\n",
      "   macro avg       0.75      0.71      0.72      1407\n",
      "weighted avg       0.79      0.80      0.79      1407\n",
      "\n"
     ]
    },
    {
     "data": {
      "text/plain": [
       "0.7096856742413505"
      ]
     },
     "execution_count": 15,
     "metadata": {},
     "output_type": "execute_result"
    }
   ],
   "source": [
    "adaB = AdaBoostClassifier()\n",
    "adaB.fit(X_train,y_train)\n",
    "\n",
    "print(adaB.score(X_train, y_train))\n",
    "print(adaB.score(X_test, y_test))\n",
    "\n",
    "y_pred = adaB.predict(X_test)\n",
    "print(classification_report(y_test, y_pred))\n",
    "roc_auc_score(y_test, y_pred)"
   ]
  },
  {
   "cell_type": "code",
   "execution_count": 16,
   "id": "b0ddfa83",
   "metadata": {},
   "outputs": [
    {
     "data": {
      "image/png": "[encoded data removed]",
      "text/plain": [
       "<Figure size 700x500 with 2 Axes>"
      ]
     },
     "metadata": {},
     "output_type": "display_data"
    }
   ],
   "source": [
    "class_train_predict = adaB.predict(X_train)\n",
    "class_test_predict = adaB.predict(X_test)\n",
    "cm=confusion_matrix(y_test, class_test_predict,labels=[1,0])\n",
    "df_cm = pd.DataFrame(cm, index = [i for i in [\"No Churn\",\"Churn\"]],\n",
    "                  columns = [i for i in [\"No Churn\",\"Churn\"]])\n",
    "plt.figure(figsize = (7,5))\n",
    "sns.heatmap(df_cm, annot=True, cmap='Blues')\n",
    "plt.show()"
   ]
  },
  {
   "cell_type": "markdown",
   "id": "622b2341",
   "metadata": {},
   "source": [
    "3.f Use grid search and improve the performance of the\n",
    "Adaboost model , check the performance of the model on\n",
    "train and test data , provide the differences observed in\n",
    "performance in Q3.e and Q3.f"
   ]
  },
  {
   "cell_type": "code",
   "execution_count": 17,
   "id": "ea21e929",
   "metadata": {},
   "outputs": [],
   "source": [
    "grid = dict()\n",
    "grid['n_estimators'] = [10, 50, 100, 500]\n",
    "grid['learning_rate'] = [0.0001, 0.001, 0.01, 0.1, 1.0]"
   ]
  },
  {
   "cell_type": "code",
   "execution_count": 18,
   "id": "1666ec6d",
   "metadata": {},
   "outputs": [],
   "source": [
    "cv = RepeatedStratifiedKFold(n_splits=10, n_repeats=3, random_state=1)\n",
    "grid_search = GridSearchCV(estimator=adaB, param_grid=grid, n_jobs=-1, cv=cv, scoring='accuracy')\n",
    "grid_result = grid_search.fit(X_train, y_train)"
   ]
  },
  {
   "cell_type": "code",
   "execution_count": 19,
   "id": "5f9137b2",
   "metadata": {},
   "outputs": [
    {
     "name": "stdout",
     "output_type": "stream",
     "text": [
      "Best: 0.802902 using {'learning_rate': 0.1, 'n_estimators': 500}\n",
      "0.732800 (0.000683) with: {'learning_rate': 0.0001, 'n_estimators': 10}\n",
      "0.732800 (0.000683) with: {'learning_rate': 0.0001, 'n_estimators': 50}\n",
      "0.732800 (0.000683) with: {'learning_rate': 0.0001, 'n_estimators': 100}\n",
      "0.732800 (0.000683) with: {'learning_rate': 0.0001, 'n_estimators': 500}\n",
      "0.732800 (0.000683) with: {'learning_rate': 0.001, 'n_estimators': 10}\n",
      "0.732800 (0.000683) with: {'learning_rate': 0.001, 'n_estimators': 50}\n",
      "0.732800 (0.000683) with: {'learning_rate': 0.001, 'n_estimators': 100}\n",
      "0.732800 (0.000683) with: {'learning_rate': 0.001, 'n_estimators': 500}\n",
      "0.732800 (0.000683) with: {'learning_rate': 0.01, 'n_estimators': 10}\n",
      "0.732800 (0.000683) with: {'learning_rate': 0.01, 'n_estimators': 50}\n",
      "0.732800 (0.000683) with: {'learning_rate': 0.01, 'n_estimators': 100}\n",
      "0.788563 (0.010214) with: {'learning_rate': 0.01, 'n_estimators': 500}\n",
      "0.732800 (0.000683) with: {'learning_rate': 0.1, 'n_estimators': 10}\n",
      "0.789215 (0.010814) with: {'learning_rate': 0.1, 'n_estimators': 50}\n",
      "0.800414 (0.013328) with: {'learning_rate': 0.1, 'n_estimators': 100}\n",
      "0.802902 (0.014321) with: {'learning_rate': 0.1, 'n_estimators': 500}\n",
      "0.793008 (0.013347) with: {'learning_rate': 1.0, 'n_estimators': 10}\n",
      "0.799523 (0.015137) with: {'learning_rate': 1.0, 'n_estimators': 50}\n",
      "0.799584 (0.013591) with: {'learning_rate': 1.0, 'n_estimators': 100}\n",
      "0.795557 (0.016839) with: {'learning_rate': 1.0, 'n_estimators': 500}\n"
     ]
    }
   ],
   "source": [
    "print(\"Best: %f using %s\" % (grid_result.best_score_, grid_result.best_params_))\n",
    "means = grid_result.cv_results_['mean_test_score']\n",
    "stds = grid_result.cv_results_['std_test_score']\n",
    "params = grid_result.cv_results_['params']\n",
    "for mean, stdev, param in zip(means, stds, params):\n",
    "    print(\"%f (%f) with: %r\" % (mean, stdev, param))"
   ]
  },
  {
   "cell_type": "code",
   "execution_count": 20,
   "id": "c0b5b038",
   "metadata": {},
   "outputs": [
    {
     "name": "stdout",
     "output_type": "stream",
     "text": [
      "0.8092444444444444\n",
      "0.8009950248756219\n",
      "              precision    recall  f1-score   support\n",
      "\n",
      "           0       0.84      0.90      0.87      1041\n",
      "           1       0.64      0.52      0.58       366\n",
      "\n",
      "    accuracy                           0.80      1407\n",
      "   macro avg       0.74      0.71      0.72      1407\n",
      "weighted avg       0.79      0.80      0.79      1407\n",
      "\n"
     ]
    },
    {
     "data": {
      "text/plain": [
       "0.7113824979134187"
      ]
     },
     "execution_count": 20,
     "metadata": {},
     "output_type": "execute_result"
    }
   ],
   "source": [
    "print(grid_result.score(X_train, y_train))\n",
    "print(grid_result.score(X_test, y_test))\n",
    "\n",
    "y_pred = grid_result.predict(X_test)\n",
    "print(classification_report(y_test, y_pred))\n",
    "roc_auc_score(y_test, y_pred)"
   ]
  },
  {
   "cell_type": "markdown",
   "id": "132728ee",
   "metadata": {},
   "source": [
    "3.g Train a model using GradientBoost and check the\n",
    "performance of the model on train and test data"
   ]
  },
  {
   "cell_type": "code",
   "execution_count": 21,
   "id": "78436670",
   "metadata": {},
   "outputs": [
    {
     "name": "stdout",
     "output_type": "stream",
     "text": [
      "0.8190222222222222\n",
      "0.7974413646055437\n",
      "              precision    recall  f1-score   support\n",
      "\n",
      "           0       0.83      0.91      0.87      1041\n",
      "           1       0.65      0.49      0.56       366\n",
      "\n",
      "    accuracy                           0.80      1407\n",
      "   macro avg       0.74      0.70      0.71      1407\n",
      "weighted avg       0.79      0.80      0.79      1407\n",
      "\n"
     ]
    },
    {
     "data": {
      "text/plain": [
       "0.6974653942457599"
      ]
     },
     "execution_count": 21,
     "metadata": {},
     "output_type": "execute_result"
    }
   ],
   "source": [
    "gb=GradientBoostingClassifier(n_estimators=50)\n",
    "gb.fit(X_train,y_train)\n",
    "\n",
    "print(gb.score(X_train, y_train))\n",
    "print(gb.score(X_test, y_test))\n",
    "\n",
    "y_pred = gb.predict(X_test)\n",
    "print(classification_report(y_test, y_pred))\n",
    "roc_auc_score(y_test, y_pred)"
   ]
  },
  {
   "cell_type": "markdown",
   "id": "b916cccb",
   "metadata": {},
   "source": [
    "3.h Use grid search and improve the performance of the\n",
    "GradientBoost model , check the performance of the model\n",
    "on train and test data , provide the differences observed in\n",
    "performance in Q3.g and Q3.h"
   ]
  },
  {
   "cell_type": "code",
   "execution_count": 22,
   "id": "3d72ac6a",
   "metadata": {},
   "outputs": [
    {
     "data": {
      "text/html": [
       "<style>#sk-container-id-3 {color: black;background-color: white;}#sk-container-id-3 pre{padding: 0;}#sk-container-id-3 div.sk-toggleable {background-color: white;}#sk-container-id-3 label.sk-toggleable__label {cursor: pointer;display: block;width: 100%;margin-bottom: 0;padding: 0.3em;box-sizing: border-box;text-align: center;}#sk-container-id-3 label.sk-toggleable__label-arrow:before {content: \"▸\";float: left;margin-right: 0.25em;color: #696969;}#sk-container-id-3 label.sk-toggleable__label-arrow:hover:before {color: black;}#sk-container-id-3 div.sk-estimator:hover label.sk-toggleable__label-arrow:before {color: black;}#sk-container-id-3 div.sk-toggleable__content {max-height: 0;max-width: 0;overflow: hidden;text-align: left;background-color: #f0f8ff;}#sk-container-id-3 div.sk-toggleable__content pre {margin: 0.2em;color: black;border-radius: 0.25em;background-color: #f0f8ff;}#sk-container-id-3 input.sk-toggleable__control:checked~div.sk-toggleable__content {max-height: 200px;max-width: 100%;overflow: auto;}#sk-container-id-3 input.sk-toggleable__control:checked~label.sk-toggleable__label-arrow:before {content: \"▾\";}#sk-container-id-3 div.sk-estimator input.sk-toggleable__control:checked~label.sk-toggleable__label {background-color: #d4ebff;}#sk-container-id-3 div.sk-label input.sk-toggleable__control:checked~label.sk-toggleable__label {background-color: #d4ebff;}#sk-container-id-3 input.sk-hidden--visually {border: 0;clip: rect(1px 1px 1px 1px);clip: rect(1px, 1px, 1px, 1px);height: 1px;margin: -1px;overflow: hidden;padding: 0;position: absolute;width: 1px;}#sk-container-id-3 div.sk-estimator {font-family: monospace;background-color: #f0f8ff;border: 1px dotted black;border-radius: 0.25em;box-sizing: border-box;margin-bottom: 0.5em;}#sk-container-id-3 div.sk-estimator:hover {background-color: #d4ebff;}#sk-container-id-3 div.sk-parallel-item::after {content: \"\";width: 100%;border-bottom: 1px solid gray;flex-grow: 1;}#sk-container-id-3 div.sk-label:hover label.sk-toggleable__label {background-color: #d4ebff;}#sk-container-id-3 div.sk-serial::before {content: \"\";position: absolute;border-left: 1px solid gray;box-sizing: border-box;top: 0;bottom: 0;left: 50%;z-index: 0;}#sk-container-id-3 div.sk-serial {display: flex;flex-direction: column;align-items: center;background-color: white;padding-right: 0.2em;padding-left: 0.2em;position: relative;}#sk-container-id-3 div.sk-item {position: relative;z-index: 1;}#sk-container-id-3 div.sk-parallel {display: flex;align-items: stretch;justify-content: center;background-color: white;position: relative;}#sk-container-id-3 div.sk-item::before, #sk-container-id-3 div.sk-parallel-item::before {content: \"\";position: absolute;border-left: 1px solid gray;box-sizing: border-box;top: 0;bottom: 0;left: 50%;z-index: -1;}#sk-container-id-3 div.sk-parallel-item {display: flex;flex-direction: column;z-index: 1;position: relative;background-color: white;}#sk-container-id-3 div.sk-parallel-item:first-child::after {align-self: flex-end;width: 50%;}#sk-container-id-3 div.sk-parallel-item:last-child::after {align-self: flex-start;width: 50%;}#sk-container-id-3 div.sk-parallel-item:only-child::after {width: 0;}#sk-container-id-3 div.sk-dashed-wrapped {border: 1px dashed gray;margin: 0 0.4em 0.5em 0.4em;box-sizing: border-box;padding-bottom: 0.4em;background-color: white;}#sk-container-id-3 div.sk-label label {font-family: monospace;font-weight: bold;display: inline-block;line-height: 1.2em;}#sk-container-id-3 div.sk-label-container {text-align: center;}#sk-container-id-3 div.sk-container {/* jupyter's `normalize.less` sets `[hidden] { display: none; }` but bootstrap.min.css set `[hidden] { display: none !important; }` so we also need the `!important` here to be able to override the default hidden behavior on the sphinx rendered scikit-learn.org. See: https://github.com/scikit-learn/scikit-learn/issues/21755 */display: inline-block !important;position: relative;}#sk-container-id-3 div.sk-text-repr-fallback {display: none;}</style><div id=\"sk-container-id-3\" class=\"sk-top-container\"><div class=\"sk-text-repr-fallback\"><pre>GridSearchCV(cv=RepeatedStratifiedKFold(n_repeats=3, n_splits=10, random_state=1),\n",
       "             estimator=GradientBoostingClassifier(n_estimators=50), n_jobs=-1,\n",
       "             param_grid={&#x27;learning_rate&#x27;: [0.01, 0.1, 0.02, 0.03],\n",
       "                         &#x27;max_depth&#x27;: [4, 6, 8],\n",
       "                         &#x27;n_estimators&#x27;: [100, 500, 1000],\n",
       "                         &#x27;subsample&#x27;: [0.9, 0.5, 0.2]})</pre><b>In a Jupyter environment, please rerun this cell to show the HTML representation or trust the notebook. <br />On GitHub, the HTML representation is unable to render, please try loading this page with nbviewer.org.</b></div><div class=\"sk-container\" hidden><div class=\"sk-item sk-dashed-wrapped\"><div class=\"sk-label-container\"><div class=\"sk-label sk-toggleable\"><input class=\"sk-toggleable__control sk-hidden--visually\" id=\"sk-estimator-id-7\" type=\"checkbox\" ><label for=\"sk-estimator-id-7\" class=\"sk-toggleable__label sk-toggleable__label-arrow\">GridSearchCV</label><div class=\"sk-toggleable__content\"><pre>GridSearchCV(cv=RepeatedStratifiedKFold(n_repeats=3, n_splits=10, random_state=1),\n",
       "             estimator=GradientBoostingClassifier(n_estimators=50), n_jobs=-1,\n",
       "             param_grid={&#x27;learning_rate&#x27;: [0.01, 0.1, 0.02, 0.03],\n",
       "                         &#x27;max_depth&#x27;: [4, 6, 8],\n",
       "                         &#x27;n_estimators&#x27;: [100, 500, 1000],\n",
       "                         &#x27;subsample&#x27;: [0.9, 0.5, 0.2]})</pre></div></div></div><div class=\"sk-parallel\"><div class=\"sk-parallel-item\"><div class=\"sk-item\"><div class=\"sk-label-container\"><div class=\"sk-label sk-toggleable\"><input class=\"sk-toggleable__control sk-hidden--visually\" id=\"sk-estimator-id-8\" type=\"checkbox\" ><label for=\"sk-estimator-id-8\" class=\"sk-toggleable__label sk-toggleable__label-arrow\">estimator: GradientBoostingClassifier</label><div class=\"sk-toggleable__content\"><pre>GradientBoostingClassifier(n_estimators=50)</pre></div></div></div><div class=\"sk-serial\"><div class=\"sk-item\"><div class=\"sk-estimator sk-toggleable\"><input class=\"sk-toggleable__control sk-hidden--visually\" id=\"sk-estimator-id-9\" type=\"checkbox\" ><label for=\"sk-estimator-id-9\" class=\"sk-toggleable__label sk-toggleable__label-arrow\">GradientBoostingClassifier</label><div class=\"sk-toggleable__content\"><pre>GradientBoostingClassifier(n_estimators=50)</pre></div></div></div></div></div></div></div></div></div></div>"
      ],
      "text/plain": [
       "GridSearchCV(cv=RepeatedStratifiedKFold(n_repeats=3, n_splits=10, random_state=1),\n",
       "             estimator=GradientBoostingClassifier(n_estimators=50), n_jobs=-1,\n",
       "             param_grid={'learning_rate': [0.01, 0.1, 0.02, 0.03],\n",
       "                         'max_depth': [4, 6, 8],\n",
       "                         'n_estimators': [100, 500, 1000],\n",
       "                         'subsample': [0.9, 0.5, 0.2]})"
      ]
     },
     "execution_count": 22,
     "metadata": {},
     "output_type": "execute_result"
    }
   ],
   "source": [
    "parameters = {'learning_rate': [0.01,0.1,0.02,0.03],\n",
    "                  'subsample'    : [0.9, 0.5, 0.2],\n",
    "                  'n_estimators' : [100,500,1000],\n",
    "                  'max_depth'    : [4,6,8]\n",
    "                 }\n",
    "\n",
    "cv = RepeatedStratifiedKFold(n_splits=10, n_repeats=3, random_state=1)\n",
    "grid_GBC = GridSearchCV(estimator=gb, param_grid = parameters, cv = cv, n_jobs=-1)\n",
    "grid_GBC.fit(X_train, y_train)"
   ]
  },
  {
   "cell_type": "code",
   "execution_count": 23,
   "id": "78ec0b22",
   "metadata": {},
   "outputs": [
    {
     "name": "stdout",
     "output_type": "stream",
     "text": [
      "Best: 0.804442 using {'learning_rate': 0.01, 'max_depth': 4, 'n_estimators': 500, 'subsample': 0.5}\n",
      "0.787493 (0.009126) with: {'learning_rate': 0.01, 'max_depth': 4, 'n_estimators': 100, 'subsample': 0.9}\n",
      "0.785952 (0.009930) with: {'learning_rate': 0.01, 'max_depth': 4, 'n_estimators': 100, 'subsample': 0.5}\n",
      "0.785360 (0.010606) with: {'learning_rate': 0.01, 'max_depth': 4, 'n_estimators': 100, 'subsample': 0.2}\n",
      "0.803554 (0.011773) with: {'learning_rate': 0.01, 'max_depth': 4, 'n_estimators': 500, 'subsample': 0.9}\n",
      "0.804442 (0.011617) with: {'learning_rate': 0.01, 'max_depth': 4, 'n_estimators': 500, 'subsample': 0.5}\n",
      "0.804384 (0.012076) with: {'learning_rate': 0.01, 'max_depth': 4, 'n_estimators': 500, 'subsample': 0.2}\n",
      "0.801242 (0.011721) with: {'learning_rate': 0.01, 'max_depth': 4, 'n_estimators': 1000, 'subsample': 0.9}\n",
      "0.801361 (0.012497) with: {'learning_rate': 0.01, 'max_depth': 4, 'n_estimators': 1000, 'subsample': 0.5}\n",
      "0.800234 (0.011377) with: {'learning_rate': 0.01, 'max_depth': 4, 'n_estimators': 1000, 'subsample': 0.2}\n",
      "0.787970 (0.012838) with: {'learning_rate': 0.01, 'max_depth': 6, 'n_estimators': 100, 'subsample': 0.9}\n",
      "0.790042 (0.012020) with: {'learning_rate': 0.01, 'max_depth': 6, 'n_estimators': 100, 'subsample': 0.5}\n",
      "0.789746 (0.011741) with: {'learning_rate': 0.01, 'max_depth': 6, 'n_estimators': 100, 'subsample': 0.2}\n",
      "0.796029 (0.012190) with: {'learning_rate': 0.01, 'max_depth': 6, 'n_estimators': 500, 'subsample': 0.9}\n",
      "0.799289 (0.010646) with: {'learning_rate': 0.01, 'max_depth': 6, 'n_estimators': 500, 'subsample': 0.5}\n",
      "0.799819 (0.010541) with: {'learning_rate': 0.01, 'max_depth': 6, 'n_estimators': 500, 'subsample': 0.2}\n",
      "0.794369 (0.012096) with: {'learning_rate': 0.01, 'max_depth': 6, 'n_estimators': 1000, 'subsample': 0.9}\n",
      "0.796504 (0.011513) with: {'learning_rate': 0.01, 'max_depth': 6, 'n_estimators': 1000, 'subsample': 0.5}\n",
      "0.794607 (0.011610) with: {'learning_rate': 0.01, 'max_depth': 6, 'n_estimators': 1000, 'subsample': 0.2}\n",
      "0.787614 (0.012900) with: {'learning_rate': 0.01, 'max_depth': 8, 'n_estimators': 100, 'subsample': 0.9}\n",
      "0.788681 (0.011985) with: {'learning_rate': 0.01, 'max_depth': 8, 'n_estimators': 100, 'subsample': 0.5}\n",
      "0.788441 (0.013882) with: {'learning_rate': 0.01, 'max_depth': 8, 'n_estimators': 100, 'subsample': 0.2}\n",
      "0.794429 (0.011660) with: {'learning_rate': 0.01, 'max_depth': 8, 'n_estimators': 500, 'subsample': 0.9}\n",
      "0.795733 (0.010722) with: {'learning_rate': 0.01, 'max_depth': 8, 'n_estimators': 500, 'subsample': 0.5}\n",
      "0.797806 (0.012886) with: {'learning_rate': 0.01, 'max_depth': 8, 'n_estimators': 500, 'subsample': 0.2}\n",
      "0.793364 (0.011214) with: {'learning_rate': 0.01, 'max_depth': 8, 'n_estimators': 1000, 'subsample': 0.9}\n",
      "0.793306 (0.012447) with: {'learning_rate': 0.01, 'max_depth': 8, 'n_estimators': 1000, 'subsample': 0.5}\n",
      "0.793541 (0.013278) with: {'learning_rate': 0.01, 'max_depth': 8, 'n_estimators': 1000, 'subsample': 0.2}\n",
      "0.798161 (0.012792) with: {'learning_rate': 0.1, 'max_depth': 4, 'n_estimators': 100, 'subsample': 0.9}\n",
      "0.796562 (0.010423) with: {'learning_rate': 0.1, 'max_depth': 4, 'n_estimators': 100, 'subsample': 0.5}\n",
      "0.790339 (0.011334) with: {'learning_rate': 0.1, 'max_depth': 4, 'n_estimators': 100, 'subsample': 0.2}\n",
      "0.786490 (0.013384) with: {'learning_rate': 0.1, 'max_depth': 4, 'n_estimators': 500, 'subsample': 0.9}\n",
      "0.782933 (0.012287) with: {'learning_rate': 0.1, 'max_depth': 4, 'n_estimators': 500, 'subsample': 0.5}\n",
      "0.773625 (0.016078) with: {'learning_rate': 0.1, 'max_depth': 4, 'n_estimators': 500, 'subsample': 0.2}\n",
      "0.780444 (0.013443) with: {'learning_rate': 0.1, 'max_depth': 4, 'n_estimators': 1000, 'subsample': 0.9}\n",
      "0.777184 (0.013687) with: {'learning_rate': 0.1, 'max_depth': 4, 'n_estimators': 1000, 'subsample': 0.5}\n",
      "0.766811 (0.017978) with: {'learning_rate': 0.1, 'max_depth': 4, 'n_estimators': 1000, 'subsample': 0.2}\n",
      "0.789986 (0.013293) with: {'learning_rate': 0.1, 'max_depth': 6, 'n_estimators': 100, 'subsample': 0.9}\n",
      "0.791347 (0.013889) with: {'learning_rate': 0.1, 'max_depth': 6, 'n_estimators': 100, 'subsample': 0.5}\n",
      "0.780623 (0.010990) with: {'learning_rate': 0.1, 'max_depth': 6, 'n_estimators': 100, 'subsample': 0.2}\n",
      "0.786845 (0.013523) with: {'learning_rate': 0.1, 'max_depth': 6, 'n_estimators': 500, 'subsample': 0.9}\n",
      "0.784296 (0.011648) with: {'learning_rate': 0.1, 'max_depth': 6, 'n_estimators': 500, 'subsample': 0.5}\n",
      "0.767171 (0.013917) with: {'learning_rate': 0.1, 'max_depth': 6, 'n_estimators': 500, 'subsample': 0.2}\n",
      "0.782580 (0.013210) with: {'learning_rate': 0.1, 'max_depth': 6, 'n_estimators': 1000, 'subsample': 0.9}\n",
      "0.781035 (0.014591) with: {'learning_rate': 0.1, 'max_depth': 6, 'n_estimators': 1000, 'subsample': 0.5}\n",
      "0.746906 (0.034954) with: {'learning_rate': 0.1, 'max_depth': 6, 'n_estimators': 1000, 'subsample': 0.2}\n",
      "0.788324 (0.012768) with: {'learning_rate': 0.1, 'max_depth': 8, 'n_estimators': 100, 'subsample': 0.9}\n",
      "0.789156 (0.014437) with: {'learning_rate': 0.1, 'max_depth': 8, 'n_estimators': 100, 'subsample': 0.5}\n",
      "0.777776 (0.013000) with: {'learning_rate': 0.1, 'max_depth': 8, 'n_estimators': 100, 'subsample': 0.2}\n",
      "0.784119 (0.013544) with: {'learning_rate': 0.1, 'max_depth': 8, 'n_estimators': 500, 'subsample': 0.9}\n",
      "0.784062 (0.013694) with: {'learning_rate': 0.1, 'max_depth': 8, 'n_estimators': 500, 'subsample': 0.5}\n",
      "0.767533 (0.041194) with: {'learning_rate': 0.1, 'max_depth': 8, 'n_estimators': 500, 'subsample': 0.2}\n",
      "0.785364 (0.014094) with: {'learning_rate': 0.1, 'max_depth': 8, 'n_estimators': 1000, 'subsample': 0.9}\n",
      "0.783824 (0.016083) with: {'learning_rate': 0.1, 'max_depth': 8, 'n_estimators': 1000, 'subsample': 0.5}\n",
      "0.735049 (0.070646) with: {'learning_rate': 0.1, 'max_depth': 8, 'n_estimators': 1000, 'subsample': 0.2}\n",
      "0.798399 (0.010080) with: {'learning_rate': 0.02, 'max_depth': 4, 'n_estimators': 100, 'subsample': 0.9}\n",
      "0.801065 (0.012645) with: {'learning_rate': 0.02, 'max_depth': 4, 'n_estimators': 100, 'subsample': 0.5}\n",
      "0.800768 (0.011860) with: {'learning_rate': 0.02, 'max_depth': 4, 'n_estimators': 100, 'subsample': 0.2}\n",
      "0.800472 (0.011991) with: {'learning_rate': 0.02, 'max_depth': 4, 'n_estimators': 500, 'subsample': 0.9}\n",
      "0.801893 (0.010801) with: {'learning_rate': 0.02, 'max_depth': 4, 'n_estimators': 500, 'subsample': 0.5}\n",
      "0.800058 (0.009878) with: {'learning_rate': 0.02, 'max_depth': 4, 'n_estimators': 500, 'subsample': 0.2}\n",
      "0.796502 (0.010939) with: {'learning_rate': 0.02, 'max_depth': 4, 'n_estimators': 1000, 'subsample': 0.9}\n",
      "0.795970 (0.010996) with: {'learning_rate': 0.02, 'max_depth': 4, 'n_estimators': 1000, 'subsample': 0.5}\n",
      "0.794426 (0.011380) with: {'learning_rate': 0.02, 'max_depth': 4, 'n_estimators': 1000, 'subsample': 0.2}\n",
      "0.795257 (0.012159) with: {'learning_rate': 0.02, 'max_depth': 6, 'n_estimators': 100, 'subsample': 0.9}\n",
      "0.797510 (0.012979) with: {'learning_rate': 0.02, 'max_depth': 6, 'n_estimators': 100, 'subsample': 0.5}\n",
      "0.801125 (0.011922) with: {'learning_rate': 0.02, 'max_depth': 6, 'n_estimators': 100, 'subsample': 0.2}\n",
      "0.796563 (0.010819) with: {'learning_rate': 0.02, 'max_depth': 6, 'n_estimators': 500, 'subsample': 0.9}\n",
      "0.794727 (0.010997) with: {'learning_rate': 0.02, 'max_depth': 6, 'n_estimators': 500, 'subsample': 0.5}\n",
      "0.793481 (0.012616) with: {'learning_rate': 0.02, 'max_depth': 6, 'n_estimators': 500, 'subsample': 0.2}\n",
      "0.790934 (0.011022) with: {'learning_rate': 0.02, 'max_depth': 6, 'n_estimators': 1000, 'subsample': 0.9}\n",
      "0.792000 (0.010385) with: {'learning_rate': 0.02, 'max_depth': 6, 'n_estimators': 1000, 'subsample': 0.5}\n",
      "0.788087 (0.011580) with: {'learning_rate': 0.02, 'max_depth': 6, 'n_estimators': 1000, 'subsample': 0.2}\n",
      "0.791170 (0.011549) with: {'learning_rate': 0.02, 'max_depth': 8, 'n_estimators': 100, 'subsample': 0.9}\n",
      "0.796505 (0.012370) with: {'learning_rate': 0.02, 'max_depth': 8, 'n_estimators': 100, 'subsample': 0.5}\n",
      "0.797629 (0.010381) with: {'learning_rate': 0.02, 'max_depth': 8, 'n_estimators': 100, 'subsample': 0.2}\n",
      "0.792117 (0.011711) with: {'learning_rate': 0.02, 'max_depth': 8, 'n_estimators': 500, 'subsample': 0.9}\n",
      "0.792119 (0.011081) with: {'learning_rate': 0.02, 'max_depth': 8, 'n_estimators': 500, 'subsample': 0.5}\n",
      "0.789867 (0.011902) with: {'learning_rate': 0.02, 'max_depth': 8, 'n_estimators': 500, 'subsample': 0.2}\n",
      "0.789335 (0.011169) with: {'learning_rate': 0.02, 'max_depth': 8, 'n_estimators': 1000, 'subsample': 0.9}\n",
      "0.789985 (0.011776) with: {'learning_rate': 0.02, 'max_depth': 8, 'n_estimators': 1000, 'subsample': 0.5}\n",
      "0.788684 (0.015228) with: {'learning_rate': 0.02, 'max_depth': 8, 'n_estimators': 1000, 'subsample': 0.2}\n",
      "0.801837 (0.013671) with: {'learning_rate': 0.03, 'max_depth': 4, 'n_estimators': 100, 'subsample': 0.9}\n",
      "0.802310 (0.012944) with: {'learning_rate': 0.03, 'max_depth': 4, 'n_estimators': 100, 'subsample': 0.5}\n",
      "0.802783 (0.013045) with: {'learning_rate': 0.03, 'max_depth': 4, 'n_estimators': 100, 'subsample': 0.2}\n",
      "0.797748 (0.009945) with: {'learning_rate': 0.03, 'max_depth': 4, 'n_estimators': 500, 'subsample': 0.9}\n",
      "0.797923 (0.010379) with: {'learning_rate': 0.03, 'max_depth': 4, 'n_estimators': 500, 'subsample': 0.5}\n",
      "0.795314 (0.013285) with: {'learning_rate': 0.03, 'max_depth': 4, 'n_estimators': 500, 'subsample': 0.2}\n",
      "0.793657 (0.013628) with: {'learning_rate': 0.03, 'max_depth': 4, 'n_estimators': 1000, 'subsample': 0.9}\n",
      "0.794607 (0.012279) with: {'learning_rate': 0.03, 'max_depth': 4, 'n_estimators': 1000, 'subsample': 0.5}\n",
      "0.788502 (0.012351) with: {'learning_rate': 0.03, 'max_depth': 4, 'n_estimators': 1000, 'subsample': 0.2}\n",
      "0.796442 (0.010885) with: {'learning_rate': 0.03, 'max_depth': 6, 'n_estimators': 100, 'subsample': 0.9}\n",
      "0.800828 (0.010045) with: {'learning_rate': 0.03, 'max_depth': 6, 'n_estimators': 100, 'subsample': 0.5}\n",
      "0.799997 (0.010968) with: {'learning_rate': 0.03, 'max_depth': 6, 'n_estimators': 100, 'subsample': 0.2}\n",
      "0.792413 (0.010609) with: {'learning_rate': 0.03, 'max_depth': 6, 'n_estimators': 500, 'subsample': 0.9}\n",
      "0.791053 (0.012033) with: {'learning_rate': 0.03, 'max_depth': 6, 'n_estimators': 500, 'subsample': 0.5}\n",
      "0.789331 (0.013441) with: {'learning_rate': 0.03, 'max_depth': 6, 'n_estimators': 500, 'subsample': 0.2}\n",
      "0.790104 (0.012233) with: {'learning_rate': 0.03, 'max_depth': 6, 'n_estimators': 1000, 'subsample': 0.9}\n",
      "0.787202 (0.012163) with: {'learning_rate': 0.03, 'max_depth': 6, 'n_estimators': 1000, 'subsample': 0.5}\n",
      "0.785008 (0.012194) with: {'learning_rate': 0.03, 'max_depth': 6, 'n_estimators': 1000, 'subsample': 0.2}\n",
      "0.790814 (0.013314) with: {'learning_rate': 0.03, 'max_depth': 8, 'n_estimators': 100, 'subsample': 0.9}\n",
      "0.795794 (0.012300) with: {'learning_rate': 0.03, 'max_depth': 8, 'n_estimators': 100, 'subsample': 0.5}\n",
      "0.796561 (0.008946) with: {'learning_rate': 0.03, 'max_depth': 8, 'n_estimators': 100, 'subsample': 0.2}\n",
      "0.789867 (0.010972) with: {'learning_rate': 0.03, 'max_depth': 8, 'n_estimators': 500, 'subsample': 0.9}\n",
      "0.790638 (0.011453) with: {'learning_rate': 0.03, 'max_depth': 8, 'n_estimators': 500, 'subsample': 0.5}\n",
      "0.787316 (0.013863) with: {'learning_rate': 0.03, 'max_depth': 8, 'n_estimators': 500, 'subsample': 0.2}\n",
      "0.789572 (0.010903) with: {'learning_rate': 0.03, 'max_depth': 8, 'n_estimators': 1000, 'subsample': 0.9}\n",
      "0.786905 (0.013667) with: {'learning_rate': 0.03, 'max_depth': 8, 'n_estimators': 1000, 'subsample': 0.5}\n",
      "0.782932 (0.013460) with: {'learning_rate': 0.03, 'max_depth': 8, 'n_estimators': 1000, 'subsample': 0.2}\n"
     ]
    }
   ],
   "source": [
    "print(\"Best: %f using %s\" % (grid_GBC.best_score_, grid_GBC.best_params_))\n",
    "means = grid_GBC.cv_results_['mean_test_score']\n",
    "stds = grid_GBC.cv_results_['std_test_score']\n",
    "params = grid_GBC.cv_results_['params']\n",
    "for mean, stdev, param in zip(means, stds, params):\n",
    "    print(\"%f (%f) with: %r\" % (mean, stdev, param))"
   ]
  },
  {
   "cell_type": "code",
   "execution_count": 24,
   "id": "72575257",
   "metadata": {},
   "outputs": [
    {
     "data": {
      "text/html": [
       "<style>#sk-container-id-4 {color: black;background-color: white;}#sk-container-id-4 pre{padding: 0;}#sk-container-id-4 div.sk-toggleable {background-color: white;}#sk-container-id-4 label.sk-toggleable__label {cursor: pointer;display: block;width: 100%;margin-bottom: 0;padding: 0.3em;box-sizing: border-box;text-align: center;}#sk-container-id-4 label.sk-toggleable__label-arrow:before {content: \"▸\";float: left;margin-right: 0.25em;color: #696969;}#sk-container-id-4 label.sk-toggleable__label-arrow:hover:before {color: black;}#sk-container-id-4 div.sk-estimator:hover label.sk-toggleable__label-arrow:before {color: black;}#sk-container-id-4 div.sk-toggleable__content {max-height: 0;max-width: 0;overflow: hidden;text-align: left;background-color: #f0f8ff;}#sk-container-id-4 div.sk-toggleable__content pre {margin: 0.2em;color: black;border-radius: 0.25em;background-color: #f0f8ff;}#sk-container-id-4 input.sk-toggleable__control:checked~div.sk-toggleable__content {max-height: 200px;max-width: 100%;overflow: auto;}#sk-container-id-4 input.sk-toggleable__control:checked~label.sk-toggleable__label-arrow:before {content: \"▾\";}#sk-container-id-4 div.sk-estimator input.sk-toggleable__control:checked~label.sk-toggleable__label {background-color: #d4ebff;}#sk-container-id-4 div.sk-label input.sk-toggleable__control:checked~label.sk-toggleable__label {background-color: #d4ebff;}#sk-container-id-4 input.sk-hidden--visually {border: 0;clip: rect(1px 1px 1px 1px);clip: rect(1px, 1px, 1px, 1px);height: 1px;margin: -1px;overflow: hidden;padding: 0;position: absolute;width: 1px;}#sk-container-id-4 div.sk-estimator {font-family: monospace;background-color: #f0f8ff;border: 1px dotted black;border-radius: 0.25em;box-sizing: border-box;margin-bottom: 0.5em;}#sk-container-id-4 div.sk-estimator:hover {background-color: #d4ebff;}#sk-container-id-4 div.sk-parallel-item::after {content: \"\";width: 100%;border-bottom: 1px solid gray;flex-grow: 1;}#sk-container-id-4 div.sk-label:hover label.sk-toggleable__label {background-color: #d4ebff;}#sk-container-id-4 div.sk-serial::before {content: \"\";position: absolute;border-left: 1px solid gray;box-sizing: border-box;top: 0;bottom: 0;left: 50%;z-index: 0;}#sk-container-id-4 div.sk-serial {display: flex;flex-direction: column;align-items: center;background-color: white;padding-right: 0.2em;padding-left: 0.2em;position: relative;}#sk-container-id-4 div.sk-item {position: relative;z-index: 1;}#sk-container-id-4 div.sk-parallel {display: flex;align-items: stretch;justify-content: center;background-color: white;position: relative;}#sk-container-id-4 div.sk-item::before, #sk-container-id-4 div.sk-parallel-item::before {content: \"\";position: absolute;border-left: 1px solid gray;box-sizing: border-box;top: 0;bottom: 0;left: 50%;z-index: -1;}#sk-container-id-4 div.sk-parallel-item {display: flex;flex-direction: column;z-index: 1;position: relative;background-color: white;}#sk-container-id-4 div.sk-parallel-item:first-child::after {align-self: flex-end;width: 50%;}#sk-container-id-4 div.sk-parallel-item:last-child::after {align-self: flex-start;width: 50%;}#sk-container-id-4 div.sk-parallel-item:only-child::after {width: 0;}#sk-container-id-4 div.sk-dashed-wrapped {border: 1px dashed gray;margin: 0 0.4em 0.5em 0.4em;box-sizing: border-box;padding-bottom: 0.4em;background-color: white;}#sk-container-id-4 div.sk-label label {font-family: monospace;font-weight: bold;display: inline-block;line-height: 1.2em;}#sk-container-id-4 div.sk-label-container {text-align: center;}#sk-container-id-4 div.sk-container {/* jupyter's `normalize.less` sets `[hidden] { display: none; }` but bootstrap.min.css set `[hidden] { display: none !important; }` so we also need the `!important` here to be able to override the default hidden behavior on the sphinx rendered scikit-learn.org. See: https://github.com/scikit-learn/scikit-learn/issues/21755 */display: inline-block !important;position: relative;}#sk-container-id-4 div.sk-text-repr-fallback {display: none;}</style><div id=\"sk-container-id-4\" class=\"sk-top-container\"><div class=\"sk-text-repr-fallback\"><pre>GridSearchCV(cv=RepeatedStratifiedKFold(n_repeats=3, n_splits=10, random_state=1),\n",
       "             estimator=GradientBoostingClassifier(n_estimators=50), n_jobs=-1,\n",
       "             param_grid={&#x27;learning_rate&#x27;: [0.01], &#x27;max_depth&#x27;: [4],\n",
       "                         &#x27;n_estimators&#x27;: [500], &#x27;subsample&#x27;: [0.9]})</pre><b>In a Jupyter environment, please rerun this cell to show the HTML representation or trust the notebook. <br />On GitHub, the HTML representation is unable to render, please try loading this page with nbviewer.org.</b></div><div class=\"sk-container\" hidden><div class=\"sk-item sk-dashed-wrapped\"><div class=\"sk-label-container\"><div class=\"sk-label sk-toggleable\"><input class=\"sk-toggleable__control sk-hidden--visually\" id=\"sk-estimator-id-10\" type=\"checkbox\" ><label for=\"sk-estimator-id-10\" class=\"sk-toggleable__label sk-toggleable__label-arrow\">GridSearchCV</label><div class=\"sk-toggleable__content\"><pre>GridSearchCV(cv=RepeatedStratifiedKFold(n_repeats=3, n_splits=10, random_state=1),\n",
       "             estimator=GradientBoostingClassifier(n_estimators=50), n_jobs=-1,\n",
       "             param_grid={&#x27;learning_rate&#x27;: [0.01], &#x27;max_depth&#x27;: [4],\n",
       "                         &#x27;n_estimators&#x27;: [500], &#x27;subsample&#x27;: [0.9]})</pre></div></div></div><div class=\"sk-parallel\"><div class=\"sk-parallel-item\"><div class=\"sk-item\"><div class=\"sk-label-container\"><div class=\"sk-label sk-toggleable\"><input class=\"sk-toggleable__control sk-hidden--visually\" id=\"sk-estimator-id-11\" type=\"checkbox\" ><label for=\"sk-estimator-id-11\" class=\"sk-toggleable__label sk-toggleable__label-arrow\">estimator: GradientBoostingClassifier</label><div class=\"sk-toggleable__content\"><pre>GradientBoostingClassifier(n_estimators=50)</pre></div></div></div><div class=\"sk-serial\"><div class=\"sk-item\"><div class=\"sk-estimator sk-toggleable\"><input class=\"sk-toggleable__control sk-hidden--visually\" id=\"sk-estimator-id-12\" type=\"checkbox\" ><label for=\"sk-estimator-id-12\" class=\"sk-toggleable__label sk-toggleable__label-arrow\">GradientBoostingClassifier</label><div class=\"sk-toggleable__content\"><pre>GradientBoostingClassifier(n_estimators=50)</pre></div></div></div></div></div></div></div></div></div></div>"
      ],
      "text/plain": [
       "GridSearchCV(cv=RepeatedStratifiedKFold(n_repeats=3, n_splits=10, random_state=1),\n",
       "             estimator=GradientBoostingClassifier(n_estimators=50), n_jobs=-1,\n",
       "             param_grid={'learning_rate': [0.01], 'max_depth': [4],\n",
       "                         'n_estimators': [500], 'subsample': [0.9]})"
      ]
     },
     "execution_count": 24,
     "metadata": {},
     "output_type": "execute_result"
    }
   ],
   "source": [
    "parameters = {'learning_rate': [0.01],\n",
    "                  'subsample'    : [0.9],\n",
    "                  'n_estimators' : [500],\n",
    "                  'max_depth'    : [4]\n",
    "                 }\n",
    "grid_gb = GridSearchCV(estimator=gb, param_grid = parameters, cv = cv, n_jobs=-1)\n",
    "grid_gb.fit(X_train, y_train)"
   ]
  },
  {
   "cell_type": "code",
   "execution_count": 25,
   "id": "b94be7b7",
   "metadata": {},
   "outputs": [
    {
     "name": "stdout",
     "output_type": "stream",
     "text": [
      "0.832\n",
      "0.8009950248756219\n",
      "              precision    recall  f1-score   support\n",
      "\n",
      "           0       0.84      0.90      0.87      1041\n",
      "           1       0.65      0.51      0.57       366\n",
      "\n",
      "    accuracy                           0.80      1407\n",
      "   macro avg       0.74      0.71      0.72      1407\n",
      "weighted avg       0.79      0.80      0.79      1407\n",
      "\n"
     ]
    },
    {
     "data": {
      "text/plain": [
       "0.7060676209823467"
      ]
     },
     "execution_count": 25,
     "metadata": {},
     "output_type": "execute_result"
    }
   ],
   "source": [
    "print(grid_gb.score(X_train, y_train))\n",
    "print(grid_gb.score(X_test, y_test))\n",
    "\n",
    "y_pred = grid_gb.predict(X_test)\n",
    "print(classification_report(y_test, y_pred))\n",
    "roc_auc_score(y_test, y_pred)"
   ]
  },
  {
   "cell_type": "markdown",
   "id": "78c9b30c",
   "metadata": {},
   "source": [
    "3.i Provide detailed analysis of the below steps\n",
    "i Compare the performance of each model in train\n",
    "stage and test stage\n",
    "II ) Provide your observation on which model performed\n",
    "the best\n",
    "III )Provide your reasoning on why the model performed\n",
    "best\n",
    "iv )Provide your final conclusion on your observation\n"
   ]
  },
  {
   "cell_type": "markdown",
   "id": "1f52fd5d",
   "metadata": {},
   "source": [
    "We have cleaned the data set and converted the  categorical variable to numerical data and dropped some rows which had the TotalCharges, because there are MonthlyCharges values available which contradicts, and tenure is 0 for all the empty Total charges.\n",
    "\n",
    "we used multiple model like \n",
    "\n",
    "1.Decision tree and improve it by Grid Search after tuning the parameters\n",
    "Before tuning \n",
    "Train data=0.99\n",
    "Test Data=0.71\n",
    "After Tuning\n",
    "Train data=0.79\n",
    "Test Data=0.79\n",
    "We see the data in Testing and training are same which says there is no overfitting of data, but still not the best Model\n",
    "\n",
    "2.Random forest \n",
    "\n",
    "Train data=1.0\n",
    "Test Data=0.79\n",
    "After Tuning\n",
    "Train data=0.81\n",
    "Test Data=0.79\n",
    "We see the data in Testing and training are same which says there is no overfitting of data, but still not the best Model\n",
    "\n",
    "3.Adaboost\n",
    "\n",
    "Train data=0.80\n",
    "Test Data=0.80\n",
    "\n",
    "The test data and train have no differece with 80% of accuracy \n",
    "After Tuning\n",
    "Train data=0.80\n",
    "Test Data=0.70\n",
    "\n",
    "Best: 0.802902 using {'learning_rate': 0.1, 'n_estimators': 500}\n",
    "\n",
    "we can see that a configuration with 500 trees and a learning rate of 0.1 performed the best with a classification accuracy of about 80% percent\n",
    "\n",
    "4.GradientBoost \n",
    "\n",
    "Train data=0.80\n",
    "Test Data=0.80\n",
    "\n",
    "The test data and train have no differece with 80% of accuracy \n",
    "After Tuning\n",
    "Train data=0.81\n",
    "Test Data=0.79\n",
    "\n",
    "Best: 0.804442 using {'learning_rate': 0.01, 'max_depth': 4, 'n_estimators': 500, 'subsample': 0.5}\n",
    "\n",
    "we can see that a configuration with 500 trees and a learning rate of 0.01 performed the best with a classification accuracy of about 80% percent with Max depth of 4\n",
    "\n",
    "ii.\n",
    "After all model execution Ada Boosting works best with the Telecom churn data set. \n",
    "\n",
    "iii\n",
    "Adaboost increases the accuracy of the weak machine learning models and improves model accuracy by going in sequence order.\n",
    "\n",
    "\n",
    "\n",
    "\n",
    "\n"
   ]
  }
 ],
 "metadata": {
  "kernelspec": {
   "display_name": "Python 3 (ipykernel)",
   "language": "python",
   "name": "python3"
  },
  "language_info": {
   "codemirror_mode": {
    "name": "ipython",
    "version": 3
   },
   "file_extension": ".py",
   "mimetype": "text/x-python",
   "name": "python",
   "nbconvert_exporter": "python",
   "pygments_lexer": "ipython3",
   "version": "3.10.9"
  }
 },
 "nbformat": 4,
 "nbformat_minor": 5
}
