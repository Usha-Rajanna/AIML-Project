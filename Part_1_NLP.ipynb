{
 "cells": [
  {
   "cell_type": "code",
   "execution_count": 38,
   "id": "6e1385c1",
   "metadata": {},
   "outputs": [],
   "source": [
    "import warnings\n",
    "import tensorflow as tf\n",
    "warnings.filterwarnings('ignore')\n",
    "from keras.datasets import imdb\n",
    "from keras.preprocessing.sequence import pad_sequences\n",
    "from keras.layers import Dropout, Flatten, Dense, Embedding, LSTM\n",
    "from keras.callbacks import ModelCheckpoint, EarlyStopping\n",
    "from sklearn.model_selection import train_test_split\n",
    "from keras.models import Model, Sequential\n",
    "from sklearn.metrics import confusion_matrix, classification_report, roc_curve, auc, accuracy_score, precision_recall_curve\n",
    "\n",
    "import numpy as np\n",
    "from itertools import islice\n",
    "from keras.constraints import max_norm, unit_norm\n",
    "\n",
    "import seaborn as sns\n",
    "import matplotlib.pyplot as plt\n",
    "%matplotlib inline\n",
    "\n",
    "random_state = 42\n",
    "np.random.seed(random_state)\n",
    "tf.random.set_seed(random_state)"
   ]
  },
  {
   "cell_type": "code",
   "execution_count": 2,
   "id": "cf48a36b",
   "metadata": {},
   "outputs": [],
   "source": [
    "vocab_size = 10000\n",
    "maxlen = 300\n",
    "(x_train, y_train), (x_test, y_test) = imdb.load_data(num_words = vocab_size) "
   ]
  },
  {
   "cell_type": "code",
   "execution_count": 3,
   "id": "fdcbb232",
   "metadata": {},
   "outputs": [],
   "source": [
    "x_train = pad_sequences(x_train, maxlen = maxlen, padding = 'pre')\n",
    "x_test =  pad_sequences(x_test, maxlen = maxlen, padding = 'pre')"
   ]
  },
  {
   "cell_type": "code",
   "execution_count": 4,
   "id": "cafc9390",
   "metadata": {},
   "outputs": [],
   "source": [
    "X = np.concatenate((x_train, x_test), axis = 0)\n",
    "y = np.concatenate((y_train, y_test), axis = 0)"
   ]
  },
  {
   "cell_type": "code",
   "execution_count": 5,
   "id": "e631ca2b",
   "metadata": {},
   "outputs": [],
   "source": [
    "x_train, x_test, y_train, y_test = train_test_split(X, y, test_size = 0.2, random_state = random_state, shuffle = True)\n",
    "x_train, x_valid, y_train, y_valid = train_test_split(x_train, y_train, test_size = 0.2, random_state = random_state, shuffle = True)"
   ]
  },
  {
   "cell_type": "code",
   "execution_count": 6,
   "id": "e43574d8",
   "metadata": {},
   "outputs": [
    {
     "name": "stdout",
     "output_type": "stream",
     "text": [
      "------------------------------------------------------------ \n",
      "rows in training dataset: 32000\n",
      "columns in training dataset: 300\n",
      "unique words in training dataset: 9999\n",
      "------------------------------------------------------------ \n",
      "rows in validation dataset: 8000\n",
      "columns in validation dataset: 300\n",
      "unique words in validation dataset: 9984\n",
      "------------------------------------------------------------ \n",
      "rows in test dataset: 10000\n",
      "columns in test dataset: 300\n",
      "unique words in test dataset: 9995\n",
      "------------------------------------------------------------ \n",
      "Unique Categories: (array([0, 1], dtype=int64), array([0, 1], dtype=int64), array([0, 1], dtype=int64))\n"
     ]
    }
   ],
   "source": [
    "print('---'*20, f'\\nrows in training dataset: {x_train.shape[0]}')\n",
    "print(f'columns in training dataset: {x_train.shape[1]}')\n",
    "print(f'unique words in training dataset: {len(np.unique(np.hstack(x_train)))}')\n",
    "\n",
    "\n",
    "print('---'*20, f'\\nrows in validation dataset: {x_valid.shape[0]}')\n",
    "print(f'columns in validation dataset: {x_valid.shape[1]}')\n",
    "print(f'unique words in validation dataset: {len(np.unique(np.hstack(x_valid)))}')\n",
    "\n",
    "\n",
    "print('---'*20, f'\\nrows in test dataset: {x_test.shape[0]}')\n",
    "print(f'columns in test dataset: {x_test.shape[1]}')\n",
    "print(f'unique words in test dataset: {len(np.unique(np.hstack(x_test)))}')\n",
    "\n",
    "\n",
    "print('---'*20, f'\\nUnique Categories: {np.unique(y_train), np.unique(y_valid), np.unique(y_test)}')"
   ]
  },
  {
   "cell_type": "code",
   "execution_count": 8,
   "id": "a15109db",
   "metadata": {},
   "outputs": [
    {
     "name": "stdout",
     "output_type": "stream",
     "text": [
      "Maximum value of a word index: 9999\n",
      "Maximum length num words of review in train: 300\n"
     ]
    }
   ],
   "source": [
    "train_len = [len(sequence) for sequence in x_train]\n",
    "test_len = [len(sequence) for sequence in x_test]\n",
    "print('Maximum value of a word index:', max([max(sequence) for sequence in x_train]))\n",
    "print('Maximum length num words of review in train:', max([len(sequence) for sequence in x_train]))"
   ]
  },
  {
   "cell_type": "code",
   "execution_count": 9,
   "id": "f0072289",
   "metadata": {},
   "outputs": [
    {
     "name": "stdout",
     "output_type": "stream",
     "text": [
      "? ? ? ? ? ? ? ? ? ? ? ? ? ? ? ? ? ? ? ? ? ? ? ? ? ? ? ? ? ? ? ? ? ? ? ? ? ? ? ? ? ? ? ? ? ? ? ? ? ? ? ? ? ? ? ? ? ? ? ? ? ? ? ? ? ? ? ? ? ? ? ? ? ? ? ? ? ? ? ? ? ? ? ? ? ? ? ? ? ? ? ? ? ? ? ? ? ? ? ? ? ? ? ? ? ? ? ? ? ? ? ? ? ? ? ? ? ? ? ? ? ? ? ? ? ? ? ? ? ? ? ? ? ? ? ? ? ? ? ? ? ? ? ? ? ? ? ? ? ? ? ? ? ? ? ? ? ? ? ? ? ? ? ? ? ? ? ? ? ? ? ? ? ? ? ? ? ? ? ? ? ? ? ? ? ? ? ? ? ? ? ? ? ? ? ? ? ? ? ? ? ? ? ? ? ? ? ? ? ? ? ? ? ? ? ? ? ? ? ? ? ? ? ? ? ? ? ? ? ? terrible just terrible probably the worst film i have ever seen and i did see some pretty bad pictures throughout the years the sound sucks so does the quality of the picture the direction the acting etc etc the only good shoots meaning funny because they're so bad are the special effects overall there are about 5 minutes worth of laughs the rest of the flick gives you brain damage\n",
      "The sentiment for the above review is: Negative\n",
      "\n",
      "\n",
      "? ? ? ? ? ? ? ? ? ? ? ? ? ? ? ? ? ? ? ? ? ? ? ? ? ? ? ? ? ? ? ? ? ? ? ? ? ? ? ? ? ? ? ? ? ? ? ? ? ? ? ? ? ? ? ? ? ? ? ? ? ? ? ? ? ? ? ? ? ? ? ? ? ? ? ? ? ? ? ? ? ? ? ? ? ? ? ? ? ? ? ? ? ? ? ? ? ? ? ? ? ? ? ? ? ? ? ? ? ? ? ? ? ? ? ? ? ? ? ? ? ? ? ? ? ? ? ? ? ? ? ? ? ? ? ? ? ? ? ? ? ? ? ? ? ? ? ? ? ? ? ? i loved this movie when i was a kid i saw it ? randy ? did a good composition of the soundtrack david ? is the father and recording manager the ? consist of alvin who is best known for playing the ? simon who is a bright and ? ? theodore who is the youngest and is always hungry there is a lady known as miss miller who looks after the ? and has 3 daughters known as ? ? ? who all have the same character as the ? my favourite songs from this soundtrack include diamond dolls the girls of rock roll the touching my mother alvin really wanted to see europe when dave had to go there for business the ? meet the playing the around the world in 30 days video game which led them to race each other doing the real thing\n",
      "The sentiment for the above review is: Positive\n"
     ]
    }
   ],
   "source": [
    "unique, counts = np.unique(np.concatenate((y_train, y_test)), return_counts=True)\n",
    "sentiments = {1: 'Positive', 0: 'Negative'}\n",
    "\n",
    "def interprete_review(sequence):\n",
    "    id_to_word = dict([(value, key) for (key, value) in imdb.get_word_index().items()])\n",
    "    decoded_review = ' '.join([id_to_word.get(idx-3, '?') for idx in sequence])\n",
    "    print(decoded_review)\n",
    "    \n",
    "review_id1 = np.random.choice(train_len)\n",
    "interprete_review(x_train[review_id1])\n",
    "print('The sentiment for the above review is:', sentiments.get(y_train[review_id1]))\n",
    "print('\\n')\n",
    "review_id2 = np.random.choice(test_len)\n",
    "interprete_review(x_test[review_id2])\n",
    "print('The sentiment for the above review is:', sentiments.get(y_test[review_id2]))"
   ]
  },
  {
   "cell_type": "code",
   "execution_count": 20,
   "id": "e0cf433d",
   "metadata": {},
   "outputs": [
    {
     "name": "stdout",
     "output_type": "stream",
     "text": [
      "Model: \"sequential_3\"\n",
      "_________________________________________________________________\n",
      " Layer (type)                Output Shape              Param #   \n",
      "=================================================================\n",
      " embedding_3 (Embedding)     (None, 300, 300)          3000000   \n",
      "                                                                 \n",
      " flatten_2 (Flatten)         (None, 90000)             0         \n",
      "                                                                 \n",
      " dense_2 (Dense)             (None, 1)                 90001     \n",
      "                                                                 \n",
      "=================================================================\n",
      "Total params: 3090001 (11.79 MB)\n",
      "Trainable params: 3090001 (11.79 MB)\n",
      "Non-trainable params: 0 (0.00 Byte)\n",
      "_________________________________________________________________\n"
     ]
    }
   ],
   "source": [
    "embedding_dim = 300\n",
    "# Build the network\n",
    "ann = Sequential()\n",
    "ann.add(Embedding(input_dim = vocab_size, output_dim = embedding_dim, input_length = maxlen))\n",
    "ann.add(Flatten())\n",
    "ann.add(Dense(1, activation = 'sigmoid'))\n",
    "ann.compile(optimizer = 'adam', loss = 'binary_crossentropy', metrics = ['accuracy'])\n",
    "ann.summary()"
   ]
  },
  {
   "cell_type": "code",
   "execution_count": 21,
   "id": "aef78133",
   "metadata": {},
   "outputs": [
    {
     "name": "stdout",
     "output_type": "stream",
     "text": [
      "Epoch 1/5\n",
      "50/50 [==============================] - 11s 203ms/step - loss: 0.6235 - accuracy: 0.6572 - val_loss: 0.4489 - val_accuracy: 0.8252\n",
      "Epoch 2/5\n",
      "50/50 [==============================] - 12s 235ms/step - loss: 0.2931 - accuracy: 0.8912 - val_loss: 0.2874 - val_accuracy: 0.8803\n",
      "Epoch 3/5\n",
      "50/50 [==============================] - 8s 168ms/step - loss: 0.1658 - accuracy: 0.9470 - val_loss: 0.2702 - val_accuracy: 0.8863\n",
      "Epoch 4/5\n",
      "50/50 [==============================] - 9s 174ms/step - loss: 0.0978 - accuracy: 0.9787 - val_loss: 0.2685 - val_accuracy: 0.8888\n",
      "Epoch 5/5\n",
      "50/50 [==============================] - 9s 175ms/step - loss: 0.0560 - accuracy: 0.9927 - val_loss: 0.2743 - val_accuracy: 0.8886\n"
     ]
    }
   ],
   "source": [
    "epochs = 5\n",
    "batches = 512\n",
    "history = ann.fit(x_train, y_train, epochs = epochs, batch_size = batches, validation_split = 0.2)"
   ]
  },
  {
   "cell_type": "code",
   "execution_count": 22,
   "id": "f1b46434",
   "metadata": {},
   "outputs": [
    {
     "name": "stdout",
     "output_type": "stream",
     "text": [
      "1000/1000 [==============================] - 8s 8ms/step - loss: 0.0838 - accuracy: 0.9759\n",
      "Training Loss: 0.0838 and Accuracy: 97.59%\n",
      "313/313 [==============================] - 3s 8ms/step - loss: 0.2715 - accuracy: 0.8898\n",
      "Test Loss: 0.2715 and Accuracy: 88.98%\n"
     ]
    }
   ],
   "source": [
    "tr_loss, tr_acc = ann.evaluate(x_train, y_train)\n",
    "print('Training Loss: %.4f and Accuracy: %.2f%%' % (tr_loss, tr_acc * 100))\n",
    "\n",
    "loss, acc = ann.evaluate(x_test, y_test)\n",
    "print('Test Loss: %.4f and Accuracy: %.2f%%' % (loss, acc * 100))"
   ]
  },
  {
   "cell_type": "code",
   "execution_count": 28,
   "id": "8857267f",
   "metadata": {
    "scrolled": false
   },
   "outputs": [
    {
     "name": "stdout",
     "output_type": "stream",
     "text": [
      "313/313 [==============================] - 3s 8ms/step\n",
      "Testing accuracy: 88.98\n",
      "\n",
      " Confusion matrix:\n",
      " [[4374  538]\n",
      " [ 564 4524]]\n"
     ]
    },
    {
     "data": {
      "text/plain": [
       "Text(0.5, 1.0, 'Confusion Matrix HeatMap')"
      ]
     },
     "execution_count": 28,
     "metadata": {},
     "output_type": "execute_result"
    },
    {
     "data": {
      "image/png": "[encoded data removed]",
      "text/plain": [
       "<Figure size 500x500 with 2 Axes>"
      ]
     },
     "metadata": {},
     "output_type": "display_data"
    }
   ],
   "source": [
    "y_pred = (ann.predict(x_test) > 0.5).astype(\"int32\")\n",
    "\n",
    "print('Testing accuracy:', (accuracy_score(y_test, y_pred) * 100))\n",
    "\n",
    "cfm_ann = confusion_matrix(y_test, y_pred)\n",
    "print('\\n Confusion matrix:\\n', cfm_ann)\n",
    "\n",
    "plt.figure(figsize = (5, 5))\n",
    "sns.heatmap(cfm_ann, annot = True, cmap = 'RdYlGn', fmt = 'd')\n",
    "plt.xlabel('Actual Classes', fontsize = 15)\n",
    "plt.ylabel('Predicted Classes', fontsize = 15)\n",
    "plt.title('Confusion Matrix HeatMap', fontsize = 15)"
   ]
  },
  {
   "cell_type": "code",
   "execution_count": 29,
   "id": "cca29004",
   "metadata": {},
   "outputs": [
    {
     "name": "stdout",
     "output_type": "stream",
     "text": [
      "Classification report:\n",
      "               precision    recall  f1-score   support\n",
      "\n",
      "           0       0.89      0.89      0.89      4912\n",
      "           1       0.89      0.89      0.89      5088\n",
      "\n",
      "    accuracy                           0.89     10000\n",
      "   macro avg       0.89      0.89      0.89     10000\n",
      "weighted avg       0.89      0.89      0.89     10000\n",
      "\n"
     ]
    }
   ],
   "source": [
    "print('Classification report:\\n', (classification_report(y_test, y_pred)))"
   ]
  },
  {
   "cell_type": "code",
   "execution_count": 39,
   "id": "555c0ddc",
   "metadata": {},
   "outputs": [
    {
     "name": "stdout",
     "output_type": "stream",
     "text": [
      "Model: \"sequential_5\"\n",
      "_________________________________________________________________\n",
      " Layer (type)                Output Shape              Param #   \n",
      "=================================================================\n",
      " embedding_5 (Embedding)     (None, 300, 300)          3000000   \n",
      "                                                                 \n",
      " dropout_1 (Dropout)         (None, 300, 300)          0         \n",
      "                                                                 \n",
      " lstm (LSTM)                 (None, 128)               219648    \n",
      "                                                                 \n",
      " dense_3 (Dense)             (None, 150)               19350     \n",
      "                                                                 \n",
      " dropout_2 (Dropout)         (None, 150)               0         \n",
      "                                                                 \n",
      " dense_4 (Dense)             (None, 1)                 151       \n",
      "                                                                 \n",
      "=================================================================\n",
      "Total params: 3239149 (12.36 MB)\n",
      "Trainable params: 3239149 (12.36 MB)\n",
      "Non-trainable params: 0 (0.00 Byte)\n",
      "_________________________________________________________________\n"
     ]
    }
   ],
   "source": [
    "lstm = Sequential()\n",
    "lstm.add(Embedding(input_dim = vocab_size, output_dim = embedding_dim, input_length = maxlen))\n",
    "lstm.add(Dropout(0.2))\n",
    "lstm.add(LSTM(128, activation = 'tanh', dropout = 0.2,\n",
    "               kernel_constraint = unit_norm(),\n",
    "               recurrent_constraint = unit_norm(),\n",
    "               bias_constraint = unit_norm()))\n",
    "lstm.add(Dense(150, activation = 'relu')) \n",
    "lstm.add(Dropout(0.2))\n",
    "lstm.add(Dense(1, activation = 'sigmoid'))\n",
    "lstm.compile(optimizer = 'adam', loss = 'binary_crossentropy', metrics = ['accuracy'])\n",
    "lstm.summary()"
   ]
  },
  {
   "cell_type": "code",
   "execution_count": 40,
   "id": "10538249",
   "metadata": {},
   "outputs": [
    {
     "name": "stdout",
     "output_type": "stream",
     "text": [
      "Epoch 1/5\n",
      "200/200 [==============================] - 954s 5s/step - loss: 0.4469 - accuracy: 0.7795 - val_loss: 0.3215 - val_accuracy: 0.8647\n",
      "Epoch 2/5\n",
      "200/200 [==============================] - 1292s 6s/step - loss: 0.2595 - accuracy: 0.8979 - val_loss: 0.3160 - val_accuracy: 0.8687\n",
      "Epoch 3/5\n",
      "200/200 [==============================] - 1399s 7s/step - loss: 0.1900 - accuracy: 0.9286 - val_loss: 0.3258 - val_accuracy: 0.8662\n",
      "Epoch 4/5\n",
      "200/200 [==============================] - 1481s 7s/step - loss: 0.1451 - accuracy: 0.9468 - val_loss: 0.3722 - val_accuracy: 0.8728\n",
      "Epoch 5/5\n",
      "200/200 [==============================] - 1454s 7s/step - loss: 0.1248 - accuracy: 0.9556 - val_loss: 0.3923 - val_accuracy: 0.8622\n"
     ]
    }
   ],
   "source": [
    "epochs = 5\n",
    "batches = 128\n",
    "\n",
    "history = lstm.fit(x_train, y_train, epochs = epochs, batch_size = batches, validation_split = 0.2) "
   ]
  },
  {
   "cell_type": "code",
   "execution_count": 41,
   "id": "53b0e7c1",
   "metadata": {},
   "outputs": [
    {
     "name": "stdout",
     "output_type": "stream",
     "text": [
      "1000/1000 [==============================] - 163s 162ms/step - loss: 0.1541 - accuracy: 0.9508\n",
      "Training Loss: 0.1541 and Accuracy: 95.08%\n",
      "313/313 [==============================] - 51s 162ms/step - loss: 0.3707 - accuracy: 0.8615\n",
      "Test Loss: 0.3707 and Accuracy: 86.15%\n"
     ]
    }
   ],
   "source": [
    "tr_loss, tr_acc = lstm.evaluate(x_train, y_train)\n",
    "print('Training Loss: %.4f and Accuracy: %.2f%%' % (tr_loss, tr_acc * 100))\n",
    "\n",
    "loss, acc = lstm.evaluate(x_test, y_test)\n",
    "print('Test Loss: %.4f and Accuracy: %.2f%%' % (loss, acc * 100))"
   ]
  },
  {
   "cell_type": "markdown",
   "id": "23ad8072",
   "metadata": {},
   "source": [
    "Sentiment classification task on the IMDB dataset, on test dataset,\n",
    "Accuracy: > 89%\n",
    "F1-score: > 89%\n",
    "Loss of 0.25\n"
   ]
  }
 ],
 "metadata": {
  "kernelspec": {
   "display_name": "Python 3 (ipykernel)",
   "language": "python",
   "name": "python3"
  },
  "language_info": {
   "codemirror_mode": {
    "name": "ipython",
    "version": 3
   },
   "file_extension": ".py",
   "mimetype": "text/x-python",
   "name": "python",
   "nbconvert_exporter": "python",
   "pygments_lexer": "ipython3",
   "version": "3.10.9"
  }
 },
 "nbformat": 4,
 "nbformat_minor": 5
}
